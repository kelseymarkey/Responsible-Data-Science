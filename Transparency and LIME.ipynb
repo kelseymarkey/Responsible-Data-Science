{
 "cells": [
  {
   "cell_type": "markdown",
   "metadata": {
    "colab_type": "text",
    "id": "PKCTGWfEQE5u"
   },
   "source": [
    "## Transparency: Explaining Classifiers, with LIME\n",
    "#### Goals: Explaining classifiers and doing feature selection based on a set of explanations. Using the open-source [LIME library](https://github.com/marcotcr/lime) proposed in [Ribeiro et al., 2016](https://dl.acm.org/citation.cfm?doid=2939672.2939778) to generate locally interpretable explanations of classification decisions and using these for feature selection to improve accuracy.\n",
    "\n",
    "Assignment created by Julia Stoyanovich: https://dataresponsibly.github.io/courses/spring20/"
   ]
  },
  {
   "cell_type": "code",
   "execution_count": 1,
   "metadata": {
    "colab": {},
    "colab_type": "code",
    "id": "YyNWJK14Npba"
   },
   "outputs": [],
   "source": [
    "import lime\n",
    "import lime.lime_tabular\n",
    "import lime.lime_text\n",
    "import numpy as np\n",
    "import sklearn\n",
    "import sklearn.ensemble\n",
    "import sklearn.metrics\n",
    "from sklearn.pipeline import make_pipeline\n",
    "from sklearn.linear_model import SGDClassifier\n",
    "from sklearn.datasets import fetch_20newsgroups\n",
    "import matplotlib.pyplot as plt\n",
    "import pandas as pd\n",
    "import seaborn as sns\n",
    "import matplotlib.pylab as pylab\n",
    "from scipy import sparse\n",
    "import random\n",
    "\n",
    "random.seed(19)\n",
    "np.random.seed(1)"
   ]
  },
  {
   "cell_type": "markdown",
   "metadata": {
    "colab_type": "text",
    "id": "eSN_vjwyQE56"
   },
   "source": [
    "#### Importing the [20 newsgroups dataset](https://scikit-learn.org/0.19/datasets/twenty_newsgroups.html) from sklearn.datasets which  comprises around 18000 newsgroups posts on 20 topics. Importing the two-class subset Atheism and Christianity (as in the LIME paper above). Fitting a TF-IDF vectorizer to the data, and training a SGDClassifier classifier."
   ]
  },
  {
   "cell_type": "code",
   "execution_count": 2,
   "metadata": {
    "colab": {},
    "colab_type": "code",
    "id": "XaPLUwLRNpbe"
   },
   "outputs": [],
   "source": [
    "# Mark the categories of interest\n",
    "categories = ['alt.atheism', 'soc.religion.christian']\n",
    "\n",
    "# Fetch the data\n",
    "newsgroups_train = fetch_20newsgroups(subset='train', categories=categories)\n",
    "newsgroups_test = fetch_20newsgroups(subset='test', categories=categories)\n",
    "\n",
    "# Set outcome class names\n",
    "class_names = ['atheism', 'christian']"
   ]
  },
  {
   "cell_type": "code",
   "execution_count": 3,
   "metadata": {
    "colab": {},
    "colab_type": "code",
    "id": "CyVjOHcUNpbi"
   },
   "outputs": [],
   "source": [
    "# Initialize tf-idf vectorizer\n",
    "vectorizer = sklearn.feature_extraction.text.TfidfVectorizer(lowercase=False)\n",
    "\n",
    "# Fit vectorizer on training data, transform both the training and test data\n",
    "train_vectors = vectorizer.fit_transform(newsgroups_train.data)\n",
    "test_vectors = vectorizer.transform(newsgroups_test.data)"
   ]
  },
  {
   "cell_type": "code",
   "execution_count": 4,
   "metadata": {
    "colab": {},
    "colab_type": "code",
    "id": "rV3jytCvNpbl",
    "outputId": "7139fe38-1d92-4df4-e8b3-072fd5ec7ac2"
   },
   "outputs": [
    {
     "data": {
      "text/plain": [
       "SGDClassifier(alpha=1e-05, average=False, class_weight=None,\n",
       "              early_stopping=False, epsilon=0.1, eta0=0.0, fit_intercept=True,\n",
       "              l1_ratio=0.15, learning_rate='optimal', loss='log', max_iter=50,\n",
       "              n_iter_no_change=5, n_jobs=None, penalty='l2', power_t=0.5,\n",
       "              random_state=0, shuffle=True, tol=0.001, validation_fraction=0.1,\n",
       "              verbose=0, warm_start=False)"
      ]
     },
     "execution_count": 4,
     "metadata": {},
     "output_type": "execute_result"
    }
   ],
   "source": [
    "# Train a classifier\n",
    "sdg = SGDClassifier(loss='log', penalty='l2', max_iter=50,\n",
    "                    alpha=0.00001, fit_intercept=True, random_state=0)\n",
    "# Fit the classifier\n",
    "sdg.fit(train_vectors, newsgroups_train.target)"
   ]
  },
  {
   "cell_type": "markdown",
   "metadata": {
    "colab": {},
    "colab_type": "code",
    "id": "WGPTe5VvNpbo"
   },
   "source": [
    "### Using LIME’s explainer to generate visual explanations for documents in the test set (some correctly and incorrectly classifed). Trying both TabularExplainer and TextExplainer. "
   ]
  },
  {
   "cell_type": "code",
   "execution_count": 5,
   "metadata": {},
   "outputs": [],
   "source": [
    "# Trying first LIME's tabular explainer which takes in a 2d numpy array\n",
    "feature_names = vectorizer.get_feature_names()\n",
    "\n",
    "explainer = lime.lime_tabular.LimeTabularExplainer(train_vectors.toarray(),\n",
    "                                                   feature_names=feature_names,\n",
    "                                                   class_names=class_names)"
   ]
  },
  {
   "cell_type": "code",
   "execution_count": 6,
   "metadata": {},
   "outputs": [
    {
     "name": "stdout",
     "output_type": "stream",
     "text": [
      "Actual class:  1\n",
      "Predit proba:  [[0.01786429 0.98213571]]\n"
     ]
    },
    {
     "data": {
      "image/png": "[encoded data removed]",
      "text/plain": [
       "<Figure size 432x288 with 1 Axes>"
      ]
     },
     "metadata": {
      "needs_background": "light"
     },
     "output_type": "display_data"
    }
   ],
   "source": [
    "i = 3\n",
    "print('Actual class: ', newsgroups_test.target[i])\n",
    "print('Predit proba: ', sdg.predict_proba([test_vectors.toarray()[i]]))\n",
    "\n",
    "# Get explanation FOR A SINGLE PERSON\n",
    "exp = explainer.explain_instance(test_vectors.toarray()[i], sdg.predict_proba,\n",
    "                                 num_features=5)\n",
    "\n",
    "# Visualize the explanation\n",
    "%matplotlib inline\n",
    "fig = exp.as_pyplot_figure()"
   ]
  },
  {
   "cell_type": "code",
   "execution_count": 7,
   "metadata": {},
   "outputs": [],
   "source": [
    "# Trying TextExplainer (meant for text classifiers)\n",
    "explainer_text = lime.lime_text.LimeTextExplainer(class_names=class_names)"
   ]
  },
  {
   "cell_type": "code",
   "execution_count": 8,
   "metadata": {},
   "outputs": [],
   "source": [
    "# Using make_pipeline since LIME takes raw text, & sklearn vectorized\n",
    "# inspired by LIME tutorials: https://github.com/marcotcr/lime\n",
    "\n",
    "c = make_pipeline(vectorizer, sdg)"
   ]
  },
  {
   "cell_type": "code",
   "execution_count": 9,
   "metadata": {},
   "outputs": [
    {
     "name": "stdout",
     "output_type": "stream",
     "text": [
      "Actual class:  1\n",
      "Predit proba:  [[0.01786429 0.98213571]]\n"
     ]
    },
    {
     "data": {
      "image/png": "[encoded data removed]",
      "text/plain": [
       "<Figure size 432x288 with 1 Axes>"
      ]
     },
     "metadata": {
      "needs_background": "light"
     },
     "output_type": "display_data"
    }
   ],
   "source": [
    "i = 3\n",
    "print('Actual class: ', newsgroups_test.target[i])\n",
    "print('Predit proba: ', c.predict_proba([newsgroups_test.data[i]]))\n",
    "exp_text = explainer_text.explain_instance(newsgroups_test.data[i],\n",
    "                                           c.predict_proba, num_features=5)\n",
    "\n",
    "# Visualize the explanation\n",
    "fig = exp_text.as_pyplot_figure()"
   ]
  },
  {
   "cell_type": "markdown",
   "metadata": {},
   "source": [
    "#### Doing this for 5 random samples (some correctly classified and some misclassified). Using TextExplainer because more suited to text classification and much faster."
   ]
  },
  {
   "cell_type": "code",
   "execution_count": 10,
   "metadata": {},
   "outputs": [
    {
     "name": "stdout",
     "output_type": "stream",
     "text": [
      "[693, 44, 532, 123, 523]\n"
     ]
    }
   ],
   "source": [
    "nums = [random.randint(0, test_vectors.shape[0] - 1) for i in range(5)]\n",
    "print(nums)"
   ]
  },
  {
   "cell_type": "code",
   "execution_count": 11,
   "metadata": {},
   "outputs": [
    {
     "name": "stdout",
     "output_type": "stream",
     "text": [
      "Actual class:  0\n",
      "Predit proba:  [[0.99781797 0.00218203]]\n"
     ]
    },
    {
     "data": {
      "image/png": "[encoded data removed]",
      "text/plain": [
       "<Figure size 432x288 with 1 Axes>"
      ]
     },
     "metadata": {
      "needs_background": "light"
     },
     "output_type": "display_data"
    }
   ],
   "source": [
    "# Correct classification, atheist\n",
    "i = nums[0]\n",
    "print('Actual class: ', newsgroups_test.target[i])\n",
    "print('Predit proba: ', c.predict_proba([newsgroups_test.data[i]]))\n",
    "exp_text = explainer_text.explain_instance(newsgroups_test.data[i],\n",
    "                                           c.predict_proba, num_features=5)\n",
    "fig = exp_text.as_pyplot_figure()"
   ]
  },
  {
   "cell_type": "code",
   "execution_count": 12,
   "metadata": {},
   "outputs": [
    {
     "name": "stdout",
     "output_type": "stream",
     "text": [
      "Actual class:  1\n",
      "Predit proba:  [[0.18927562 0.81072438]]\n"
     ]
    },
    {
     "data": {
      "image/png": "[encoded data removed]",
      "text/plain": [
       "<Figure size 432x288 with 1 Axes>"
      ]
     },
     "metadata": {
      "needs_background": "light"
     },
     "output_type": "display_data"
    }
   ],
   "source": [
    "# Correct, christian\n",
    "i = nums[1]\n",
    "print('Actual class: ', newsgroups_test.target[i])\n",
    "print('Predit proba: ', c.predict_proba([newsgroups_test.data[i]]))\n",
    "exp_text = explainer_text.explain_instance(newsgroups_test.data[i],\n",
    "                                           c.predict_proba, num_features=5)\n",
    "fig = exp_text.as_pyplot_figure()"
   ]
  },
  {
   "cell_type": "code",
   "execution_count": 13,
   "metadata": {},
   "outputs": [
    {
     "name": "stdout",
     "output_type": "stream",
     "text": [
      "Actual class:  1\n",
      "Predit proba:  [[0.02292418 0.97707582]]\n"
     ]
    },
    {
     "data": {
      "image/png": "[encoded data removed]",
      "text/plain": [
       "<Figure size 432x288 with 1 Axes>"
      ]
     },
     "metadata": {
      "needs_background": "light"
     },
     "output_type": "display_data"
    }
   ],
   "source": [
    "# Correct, christian\n",
    "i = nums[2]\n",
    "print('Actual class: ', newsgroups_test.target[i])\n",
    "print('Predit proba: ', c.predict_proba([newsgroups_test.data[i]]))\n",
    "exp_text = explainer_text.explain_instance(newsgroups_test.data[i],\n",
    "                                           c.predict_proba, num_features=5)\n",
    "fig = exp_text.as_pyplot_figure()"
   ]
  },
  {
   "cell_type": "code",
   "execution_count": 14,
   "metadata": {},
   "outputs": [
    {
     "name": "stdout",
     "output_type": "stream",
     "text": [
      "Actual class:  0\n",
      "Predit proba:  [[0.21612009 0.78387991]]\n"
     ]
    },
    {
     "data": {
      "image/png": "[encoded data removed]",
      "text/plain": [
       "<Figure size 432x288 with 1 Axes>"
      ]
     },
     "metadata": {
      "needs_background": "light"
     },
     "output_type": "display_data"
    }
   ],
   "source": [
    "# Incorrect, actually atheist\n",
    "i = nums[3]\n",
    "print('Actual class: ', newsgroups_test.target[i])\n",
    "print('Predit proba: ', c.predict_proba([newsgroups_test.data[i]]))\n",
    "exp_text = explainer_text.explain_instance(newsgroups_test.data[i],\n",
    "                                           c.predict_proba, num_features=5)\n",
    "fig = exp_text.as_pyplot_figure()"
   ]
  },
  {
   "cell_type": "code",
   "execution_count": 15,
   "metadata": {},
   "outputs": [
    {
     "name": "stdout",
     "output_type": "stream",
     "text": [
      "Actual class:  1\n",
      "Predit proba:  [[0.01170016 0.98829984]]\n"
     ]
    },
    {
     "data": {
      "image/png": "[encoded data removed]",
      "text/plain": [
       "<Figure size 432x288 with 1 Axes>"
      ]
     },
     "metadata": {
      "needs_background": "light"
     },
     "output_type": "display_data"
    }
   ],
   "source": [
    "# Correct, christian\n",
    "i = nums[4]\n",
    "print('Actual class: ', newsgroups_test.target[i])\n",
    "print('Predit proba: ', c.predict_proba([newsgroups_test.data[i]]))\n",
    "exp_text = explainer_text.explain_instance(newsgroups_test.data[i],\n",
    "                                           c.predict_proba, num_features=5)\n",
    "fig = exp_text.as_pyplot_figure()"
   ]
  },
  {
   "cell_type": "code",
   "execution_count": 16,
   "metadata": {},
   "outputs": [
    {
     "name": "stdout",
     "output_type": "stream",
     "text": [
      "Actual class:  0\n",
      "Predit proba:  [[0.19916822 0.80083178]]\n"
     ]
    },
    {
     "data": {
      "image/png": "[encoded data removed]",
      "text/plain": [
       "<Figure size 432x288 with 1 Axes>"
      ]
     },
     "metadata": {
      "needs_background": "light"
     },
     "output_type": "display_data"
    }
   ],
   "source": [
    "# Also incorrect, actually atheist\n",
    "i = 469\n",
    "print('Actual class: ', newsgroups_test.target[i])\n",
    "print('Predit proba: ', c.predict_proba([newsgroups_test.data[i]]))\n",
    "exp_text = explainer_text.explain_instance(newsgroups_test.data[i],\n",
    "                                           c.predict_proba, num_features=5)\n",
    "fig = exp_text.as_pyplot_figure()"
   ]
  },
  {
   "cell_type": "markdown",
   "metadata": {},
   "source": [
    "#### Observations of explanataions above: \n",
    "Overall we see in a number of the explanations that positive explanations for Christianity include biblical and religious words such as ”Christian”, ”Paul”, ”God”, ”body”, ”sin”, whereas the features that explain atheism were often less meaningful (i.e. ”Host”, ”unm”, ”Jimmy”). One exception to this is the word ”edu” which explains the negative class, perhaps suggesting that the model has learned that scholarly emails ending in .edu are more likely to have the atheist class. Interestingly we see that (in line with religious treatments) ”God” contributes to the Christian class while ”god” explains the atheist class. In both classes we see that the model learned common words such as ”to”, ”of”, and ”an”, to explain both classes. Both cases of incorrect classifications had true labels of atheist and had negative and positive explanations for stop words like ”to” (positive), ”of” (positive), and ”you” (negative, but potentially indicating a more self-centric focus in line with atheism)."
   ]
  },
  {
   "cell_type": "markdown",
   "metadata": {
    "colab_type": "text",
    "id": "_RLpSclOQE6W"
   },
   "source": [
    "### Studying misclassified documents and the features (words) that contributed to their misclassification. "
   ]
  },
  {
   "cell_type": "code",
   "execution_count": 17,
   "metadata": {
    "colab": {},
    "colab_type": "code",
    "id": "a31dqLqUQE6Z"
   },
   "outputs": [
    {
     "name": "stdout",
     "output_type": "stream",
     "text": [
      "Test set f1 score:  0.9505428226779252\n",
      "Test set accuracy:  0.9428172942817294\n",
      "Test set number of misclassified documents:  41\n"
     ]
    }
   ],
   "source": [
    "def print_metrics(model, test_vectors):\n",
    "    pred_test = model.predict(test_vectors)\n",
    "    f1 = sklearn.metrics.f1_score(newsgroups_test.target, pred_test)\n",
    "    acc = sklearn.metrics.accuracy_score(newsgroups_test.target, pred_test)\n",
    "    zeroone = sklearn.metrics.zero_one_loss(newsgroups_test.target,\n",
    "                                            pred_test, normalize=False)\n",
    "    print(\"Test set f1 score: \", f1)\n",
    "    print(\"Test set accuracy: \", acc)\n",
    "    print(\"Test set number of misclassified documents: \", zeroone)\n",
    "\n",
    "\n",
    "print_metrics(sdg, test_vectors)"
   ]
  },
  {
   "cell_type": "markdown",
   "metadata": {
    "colab_type": "text",
    "id": "_3H7FswJQE6e"
   },
   "source": [
    "#### Looking at the difference between the probabilities of the two predicted classes (the magnitude of the error) for misclassified documents."
   ]
  },
  {
   "cell_type": "code",
   "execution_count": 18,
   "metadata": {},
   "outputs": [],
   "source": [
    "# Making predictions\n",
    "pred_test = sdg.predict(test_vectors)\n",
    "\n",
    "# Finding misclassified documents\n",
    "misclassified = np.where(newsgroups_test.target != pred_test)[0]"
   ]
  },
  {
   "cell_type": "code",
   "execution_count": 19,
   "metadata": {},
   "outputs": [],
   "source": [
    "# Getting difference in probabilities\n",
    "diffs = []\n",
    "for i in misclassified:\n",
    "    ath_prob = c.predict_proba([newsgroups_test.data[i]])[0][0]\n",
    "    christ_prob = c.predict_proba([newsgroups_test.data[i]])[0][1]\n",
    "    diff = np.abs(ath_prob - christ_prob)\n",
    "    diffs.append(diff)"
   ]
  },
  {
   "cell_type": "code",
   "execution_count": 20,
   "metadata": {},
   "outputs": [
    {
     "data": {
      "text/plain": [
       "Text(0, 0.5, 'Number of documents')"
      ]
     },
     "execution_count": 20,
     "metadata": {},
     "output_type": "execute_result"
    },
    {
     "data": {
      "image/png": "[encoded data removed]",
      "text/plain": [
       "<Figure size 432x288 with 1 Axes>"
      ]
     },
     "metadata": {
      "needs_background": "light"
     },
     "output_type": "display_data"
    }
   ],
   "source": [
    "# Looking at distribution of probability difference\n",
    "sns.distplot(diffs, kde=False, bins=10)\n",
    "plt.xlabel('Predicted probability difference')\n",
    "plt.ylabel('Number of documents')"
   ]
  },
  {
   "cell_type": "code",
   "execution_count": 21,
   "metadata": {},
   "outputs": [
    {
     "name": "stdout",
     "output_type": "stream",
     "text": [
      "The number which were truly atheist but misclassified as Christian is: 37\n",
      "The number which were truly Christian but misclassified as atheist is: 4\n"
     ]
    }
   ],
   "source": [
    "# Most misclassifications are atheist misclassified as Christian\n",
    "misclassified_labels = []\n",
    "for i in misclassified:\n",
    "    actual = newsgroups_test.target[i]\n",
    "    misclassified_labels.append(actual)\n",
    "\n",
    "print('The number which were truly atheist but misclassified as Christian is:',\n",
    "      misclassified_labels.count(0))\n",
    "print('The number which were truly Christian but misclassified as atheist is:',\n",
    "      misclassified_labels.count(1))"
   ]
  },
  {
   "cell_type": "markdown",
   "metadata": {
    "colab_type": "text",
    "id": "3Lpv3-4mQE6j"
   },
   "source": [
    "#### Identify words that contributed to the misclassification of some document."
   ]
  },
  {
   "cell_type": "code",
   "execution_count": 22,
   "metadata": {},
   "outputs": [],
   "source": [
    "# Finding words that contributed to misclassification of any document\n",
    "wrong_vectors = []\n",
    "for i in misclassified:\n",
    "    # Make LIME explainer for each misclassified documents\n",
    "    exp_text = explainer_text.explain_instance(newsgroups_test.data[i],\n",
    "                                               c.predict_proba,\n",
    "                                               num_features=10)\n",
    "    actual = newsgroups_test.target[i]\n",
    "    pred = c.predict([newsgroups_test.data[i]])[0]\n",
    "\n",
    "    # Adding features with weights opposite to the sign of true class to a list\n",
    "    if actual == 1:\n",
    "        incorrect = [i for i in exp_text.as_list() if i[1] <= 0]\n",
    "        wrong_vectors.append(incorrect)\n",
    "    elif actual == 0:\n",
    "        incorrect = [i for i in exp_text.as_list() if i[1] >= 0]\n",
    "        wrong_vectors.append(incorrect)"
   ]
  },
  {
   "cell_type": "code",
   "execution_count": 23,
   "metadata": {
    "scrolled": true
   },
   "outputs": [
    {
     "data": {
      "text/html": [
       "<div>\n",
       "<style scoped>\n",
       "    .dataframe tbody tr th:only-of-type {\n",
       "        vertical-align: middle;\n",
       "    }\n",
       "\n",
       "    .dataframe tbody tr th {\n",
       "        vertical-align: top;\n",
       "    }\n",
       "\n",
       "    .dataframe thead th {\n",
       "        text-align: right;\n",
       "    }\n",
       "</style>\n",
       "<table border=\"1\" class=\"dataframe\">\n",
       "  <thead>\n",
       "    <tr style=\"text-align: right;\">\n",
       "      <th></th>\n",
       "      <th>Word</th>\n",
       "      <th>Weight</th>\n",
       "    </tr>\n",
       "  </thead>\n",
       "  <tbody>\n",
       "    <tr>\n",
       "      <th>0</th>\n",
       "      <td>York</td>\n",
       "      <td>0.060660</td>\n",
       "    </tr>\n",
       "    <tr>\n",
       "      <th>1</th>\n",
       "      <td>to</td>\n",
       "      <td>0.054779</td>\n",
       "    </tr>\n",
       "    <tr>\n",
       "      <th>2</th>\n",
       "      <td>we</td>\n",
       "      <td>0.050558</td>\n",
       "    </tr>\n",
       "    <tr>\n",
       "      <th>3</th>\n",
       "      <td>Aaron</td>\n",
       "      <td>0.045420</td>\n",
       "    </tr>\n",
       "    <tr>\n",
       "      <th>4</th>\n",
       "      <td>temple</td>\n",
       "      <td>0.120372</td>\n",
       "    </tr>\n",
       "  </tbody>\n",
       "</table>\n",
       "</div>"
      ],
      "text/plain": [
       "     Word    Weight\n",
       "0    York  0.060660\n",
       "1      to  0.054779\n",
       "2      we  0.050558\n",
       "3   Aaron  0.045420\n",
       "4  temple  0.120372"
      ]
     },
     "execution_count": 23,
     "metadata": {},
     "output_type": "execute_result"
    }
   ],
   "source": [
    "# Make df of all words and weights across all documents\n",
    "flat_list = [item for sublist in wrong_vectors for item in sublist]\n",
    "vect_df = pd.DataFrame(flat_list, columns=['Word', 'Weight'])\n",
    "vect_df.head()"
   ]
  },
  {
   "cell_type": "code",
   "execution_count": 24,
   "metadata": {},
   "outputs": [
    {
     "data": {
      "text/plain": [
       "Text(0, 0.5, 'Number of documents it helped misclassify')"
      ]
     },
     "execution_count": 24,
     "metadata": {},
     "output_type": "execute_result"
    },
    {
     "data": {
      "image/png": "[encoded data removed]",
      "text/plain": [
       "<Figure size 432x288 with 1 Axes>"
      ]
     },
     "metadata": {
      "needs_background": "light"
     },
     "output_type": "display_data"
    }
   ],
   "source": [
    "# Plot number of misclassified documents each word contributed to\n",
    "# All that occured more than 1 time\n",
    "\n",
    "more_than_one = vect_df['Word'].value_counts()[vect_df['Word'].\n",
    "                                               value_counts() > 1]\n",
    "more_than_one.sort_values().plot(kind='bar')\n",
    "plt.xlabel('Word')\n",
    "plt.ylabel('Number of documents it helped misclassify')"
   ]
  },
  {
   "cell_type": "markdown",
   "metadata": {},
   "source": [
    "Of the five words that helped to misclassify the most documents, four were common stop words (”of”, ”to”, ”the”, ”and”) and only one was related to religion (”God”). This suggests that the model learned stop words in one class direction but this failed to translate to the testing documents. There were five religious words in the top ten most misclassified words, ”God”, ”Christ”, ”Christian”, ”Christians”, ”church”, suggesting that these words are in fact used in both types of documents."
   ]
  },
  {
   "cell_type": "code",
   "execution_count": 26,
   "metadata": {},
   "outputs": [],
   "source": [
    "# Changing plotting parameters\n",
    "params = {'legend.fontsize': 'large',\n",
    "          'figure.figsize': (20, 5),\n",
    "          'axes.labelsize': 'large',\n",
    "          'axes.titlesize': 'large',\n",
    "          'xtick.labelsize': 'large',\n",
    "          'ytick.labelsize': 'large'}\n",
    "pylab.rcParams.update(params)"
   ]
  },
  {
   "cell_type": "code",
   "execution_count": 27,
   "metadata": {},
   "outputs": [
    {
     "data": {
      "text/plain": [
       "Text(0, 0.5, 'Number of documents it helped misclassify')"
      ]
     },
     "execution_count": 27,
     "metadata": {},
     "output_type": "execute_result"
    },
    {
     "data": {
      "image/png": "[encoded data removed]",
      "text/plain": [
       "<Figure size 1440x360 with 1 Axes>"
      ]
     },
     "metadata": {
      "needs_background": "light"
     },
     "output_type": "display_data"
    }
   ],
   "source": [
    "# Plot number of misclassified documents each word contributed to\n",
    "# Only those that occured once\n",
    "\n",
    "once = vect_df['Word'].value_counts()[vect_df['Word'].value_counts() == 1]\n",
    "once.sort_values().plot(kind='bar')\n",
    "plt.xlabel('Word')\n",
    "plt.ylabel('Number of documents it helped misclassify')"
   ]
  },
  {
   "cell_type": "markdown",
   "metadata": {},
   "source": [
    "#### The total weight of each of these words was then calculated for all documents that it helped misclassify. This was done by summing the absolute values of the weight across all misclassified documents."
   ]
  },
  {
   "cell_type": "code",
   "execution_count": 28,
   "metadata": {},
   "outputs": [
    {
     "data": {
      "text/plain": [
       "Text(0.5, 0, 'Word')"
      ]
     },
     "execution_count": 28,
     "metadata": {},
     "output_type": "execute_result"
    },
    {
     "data": {
      "image/png": "[encoded data removed]",
      "text/plain": [
       "<Figure size 1440x360 with 1 Axes>"
      ]
     },
     "metadata": {
      "needs_background": "light"
     },
     "output_type": "display_data"
    }
   ],
   "source": [
    "# Plot total weight of a word in all documents it helped misclassify\n",
    "# Toal weight = sum of abs values of weights\n",
    "vect_df['Weight'] = vect_df['Weight'].abs()\n",
    "sum_df = vect_df.groupby('Word').sum()\n",
    "\n",
    "sum_df.sort_values('Weight').plot(kind='bar')\n",
    "plt.ylabel('Sum of absolute value of weights')\n",
    "plt.xlabel('Word')"
   ]
  },
  {
   "cell_type": "markdown",
   "metadata": {},
   "source": [
    "We see a repeat of many of the words which commonly occurred in misclassified documents such as ”God”, ”of”, ”to”, and ”the”. Each of these words had a summed weight at least double of the next highest word (”Christ”), meaning that they often had large weights in the documents that they helped to misclassify."
   ]
  },
  {
   "cell_type": "markdown",
   "metadata": {
    "colab_type": "text",
    "id": "abGIMuKzQE6p"
   },
   "source": [
    "### Investigate strategies for feature selection based on these explanations "
   ]
  },
  {
   "cell_type": "code",
   "execution_count": 29,
   "metadata": {
    "colab": {},
    "colab_type": "code",
    "id": "Jnff4-zOQE6s"
   },
   "outputs": [],
   "source": [
    "# Get misclassified documents with predict_proba difference >= 0.1\n",
    "conf_docs = []\n",
    "for i in misclassified:\n",
    "    diff = np.abs(c.predict_proba([newsgroups_test.data[i]])[0][0] -\n",
    "                  c.predict_proba([newsgroups_test.data[i]])[0][1])\n",
    "    if diff >= 0.1:\n",
    "        conf_docs.append(i)\n",
    "\n",
    "# Get the wrong vectors from these documents\n",
    "wrong_vectors = []\n",
    "for i in conf_docs:\n",
    "    exp_text = explainer_text.explain_instance(newsgroups_test.data[i],\n",
    "                                               c.predict_proba)\n",
    "    actual = newsgroups_test.target[i]\n",
    "    if actual == 1:\n",
    "        incorrect = [i for i in exp_text.as_list() if i[1] <= 0]\n",
    "        wrong_vectors.append(incorrect)\n",
    "    elif actual == 0:\n",
    "        incorrect = [i for i in exp_text.as_list() if i[1] >= 0]\n",
    "        wrong_vectors.append(incorrect)\n",
    "flat_list = [item for sublist in wrong_vectors for item in sublist]\n",
    "vect_df = pd.DataFrame(flat_list, columns=['Word', 'Weight'])"
   ]
  },
  {
   "cell_type": "code",
   "execution_count": 31,
   "metadata": {},
   "outputs": [
    {
     "data": {
      "text/html": [
       "<div>\n",
       "<style scoped>\n",
       "    .dataframe tbody tr th:only-of-type {\n",
       "        vertical-align: middle;\n",
       "    }\n",
       "\n",
       "    .dataframe tbody tr th {\n",
       "        vertical-align: top;\n",
       "    }\n",
       "\n",
       "    .dataframe thead th {\n",
       "        text-align: right;\n",
       "    }\n",
       "</style>\n",
       "<table border=\"1\" class=\"dataframe\">\n",
       "  <thead>\n",
       "    <tr style=\"text-align: right;\">\n",
       "      <th></th>\n",
       "      <th>Weight</th>\n",
       "    </tr>\n",
       "    <tr>\n",
       "      <th>Word</th>\n",
       "      <th></th>\n",
       "    </tr>\n",
       "  </thead>\n",
       "  <tbody>\n",
       "    <tr>\n",
       "      <th>10</th>\n",
       "      <td>0.093147</td>\n",
       "    </tr>\n",
       "    <tr>\n",
       "      <th>Aaron</th>\n",
       "      <td>0.045420</td>\n",
       "    </tr>\n",
       "    <tr>\n",
       "      <th>Andrew</th>\n",
       "      <td>0.065807</td>\n",
       "    </tr>\n",
       "    <tr>\n",
       "      <th>Black</th>\n",
       "      <td>0.056785</td>\n",
       "    </tr>\n",
       "    <tr>\n",
       "      <th>Charley</th>\n",
       "      <td>0.021665</td>\n",
       "    </tr>\n",
       "    <tr>\n",
       "      <th>...</th>\n",
       "      <td>...</td>\n",
       "    </tr>\n",
       "    <tr>\n",
       "      <th>we</th>\n",
       "      <td>0.560887</td>\n",
       "    </tr>\n",
       "    <tr>\n",
       "      <th>will</th>\n",
       "      <td>0.041159</td>\n",
       "    </tr>\n",
       "    <tr>\n",
       "      <th>with</th>\n",
       "      <td>0.114857</td>\n",
       "    </tr>\n",
       "    <tr>\n",
       "      <th>wustl</th>\n",
       "      <td>0.127965</td>\n",
       "    </tr>\n",
       "    <tr>\n",
       "      <th>you</th>\n",
       "      <td>0.140483</td>\n",
       "    </tr>\n",
       "  </tbody>\n",
       "</table>\n",
       "<p>93 rows × 1 columns</p>\n",
       "</div>"
      ],
      "text/plain": [
       "           Weight\n",
       "Word             \n",
       "10       0.093147\n",
       "Aaron    0.045420\n",
       "Andrew   0.065807\n",
       "Black    0.056785\n",
       "Charley  0.021665\n",
       "...           ...\n",
       "we       0.560887\n",
       "will     0.041159\n",
       "with     0.114857\n",
       "wustl    0.127965\n",
       "you      0.140483\n",
       "\n",
       "[93 rows x 1 columns]"
      ]
     },
     "execution_count": 31,
     "metadata": {},
     "output_type": "execute_result"
    }
   ],
   "source": [
    "sum_df"
   ]
  },
  {
   "cell_type": "markdown",
   "metadata": {},
   "source": [
    "#### Strategy 1) Remove words/features that have a total weight > 0.5 and are misclassified more than 10 times"
   ]
  },
  {
   "cell_type": "code",
   "execution_count": 32,
   "metadata": {},
   "outputs": [
    {
     "name": "stdout",
     "output_type": "stream",
     "text": [
      "['of', 'and', 'God', 'to', 'the']\n",
      "Test set f1 score:  0.9516908212560387\n",
      "Test set accuracy:  0.9442119944211994\n",
      "Test set number of misclassified documents:  40\n"
     ]
    }
   ],
   "source": [
    "# Find words with total weight > 0.5 and are misclassified > 10 times\n",
    "words_to_remove = []\n",
    "for word in set(vect_df['Word']):\n",
    "    if len(vect_df[vect_df['Word'] == word]) > 10 and sum_df.loc[word]['Weight'] > 0.5:\n",
    "        words_to_remove.append(word)\n",
    "print(words_to_remove)\n",
    "\n",
    "# Remove these words from training set\n",
    "X = train_vectors.toarray()  # convert to dense\n",
    "for word in words_to_remove:\n",
    "    index = vectorizer.vocabulary_[word]\n",
    "    X[:, index] = 0  # remove from X\n",
    "train_vectors_edited = sparse.csr_matrix(X)  # convert back to sparse\n",
    "\n",
    "# Retrain classifier\n",
    "sdg_1 = SGDClassifier(loss='log', penalty='l2', max_iter=50,\n",
    "                      alpha=0.00001, fit_intercept=True, random_state=0)\n",
    "sdg_1.fit(train_vectors_edited, newsgroups_train.target)\n",
    "\n",
    "# Report new scores\n",
    "print_metrics(sdg_1, test_vectors)"
   ]
  },
  {
   "cell_type": "code",
   "execution_count": 33,
   "metadata": {},
   "outputs": [
    {
     "name": "stdout",
     "output_type": "stream",
     "text": [
      "Difference of sets: [148, 164, 80, 605, 366]\n",
      "Misclassified in new set, but not in old set: [ 80 366]\n",
      "Misclassified in old set, but not in new set: [148 164 605]\n"
     ]
    }
   ],
   "source": [
    "# Seeing which examples it fixed\n",
    "misclassified_new = np.where(newsgroups_test.target !=\n",
    "                             sdg_1.predict(test_vectors))[0]\n",
    "diff_sets = list(set(misclassified_new).symmetric_difference(misclassified))\n",
    "print('Difference of sets:', diff_sets)\n",
    "print('Misclassified in new set, but not in old set:',\n",
    "      np.setdiff1d(misclassified_new, misclassified))\n",
    "print('Misclassified in old set, but not in new set:',\n",
    "      np.setdiff1d(misclassified, misclassified_new))"
   ]
  },
  {
   "cell_type": "markdown",
   "metadata": {},
   "source": [
    "#### Strategy 2) Remove words/features that are misclassified more than once"
   ]
  },
  {
   "cell_type": "code",
   "execution_count": 34,
   "metadata": {},
   "outputs": [
    {
     "name": "stdout",
     "output_type": "stream",
     "text": [
      "Test set f1 score:  0.9564164648910412\n",
      "Test set accuracy:  0.9497907949790795\n",
      "Test set number of misclassified documents:  36\n"
     ]
    }
   ],
   "source": [
    "# Removing words that are misclassified more than once = best performance\n",
    "words_to_remove = list(more_than_one.index)\n",
    "\n",
    "# Remove these words from training set\n",
    "X = train_vectors.toarray()  # convert to dense\n",
    "for word in words_to_remove:\n",
    "    index = vectorizer.vocabulary_[word]\n",
    "    X[:, index] = 0  # remove from X\n",
    "train_vectors_edited = sparse.csr_matrix(X)  # convert back to sparse\n",
    "\n",
    "# Retrain classifier\n",
    "sdg_new = SGDClassifier(loss='log', penalty='l2', max_iter=50,\n",
    "                        alpha=0.00001, fit_intercept=True, random_state=0)\n",
    "sdg_new.fit(train_vectors_edited, newsgroups_train.target)\n",
    "\n",
    "# Report new scores\n",
    "print_metrics(sdg_new, test_vectors)"
   ]
  },
  {
   "cell_type": "code",
   "execution_count": 35,
   "metadata": {},
   "outputs": [
    {
     "name": "stdout",
     "output_type": "stream",
     "text": [
      "Difference of sets: [641, 658, 280, 419, 164, 677, 62, 593, 605, 366, 377]\n",
      "Misclassified in new set, but not in old set: [280 366 593]\n",
      "Misclassified in old set, but not in new set: [ 62 164 377 419 605 641 658 677]\n"
     ]
    }
   ],
   "source": [
    "# Seeing which examples it fixed\n",
    "misclassified_new = np.where(newsgroups_test.target !=\n",
    "                             sdg_new.predict(test_vectors))[0]\n",
    "diff_sets = list(set(misclassified_new).symmetric_difference(misclassified))\n",
    "print('Difference of sets:', diff_sets)\n",
    "print('Misclassified in new set, but not in old set:',\n",
    "      np.setdiff1d(misclassified_new, misclassified))\n",
    "print('Misclassified in old set, but not in new set:',\n",
    "      np.setdiff1d(misclassified, misclassified_new))"
   ]
  },
  {
   "cell_type": "markdown",
   "metadata": {},
   "source": [
    "#### Strategy 3) Remove only stop words"
   ]
  },
  {
   "cell_type": "code",
   "execution_count": 36,
   "metadata": {},
   "outputs": [
    {
     "name": "stdout",
     "output_type": "stream",
     "text": [
      "Test set f1 score:  0.9492753623188406\n",
      "Test set accuracy:  0.9414225941422594\n",
      "Test set number of misclassified documents:  42\n"
     ]
    }
   ],
   "source": [
    "# Removing just (English) stop words. Performance gets worse.\n",
    "\n",
    "# Initialize tf-idf vectorizer\n",
    "vec_sw = sklearn.feature_extraction.text.TfidfVectorizer(stop_words='english',\n",
    "                                                         lowercase=False)\n",
    "\n",
    "# Fit vectorizer on training data, then transform both training and test data\n",
    "train_vectors_nostop = vec_sw.fit_transform(newsgroups_train.data)\n",
    "test_vectors = vec_sw.transform(newsgroups_test.data)\n",
    "\n",
    "# Retrain classifier\n",
    "sdg_stop = SGDClassifier(loss='log', penalty='l2', max_iter=50,\n",
    "                         alpha=0.00001, fit_intercept=True, random_state=0)\n",
    "sdg_stop.fit(train_vectors_nostop, newsgroups_train.target)\n",
    "\n",
    "# Report new scores\n",
    "print_metrics(sdg_stop, test_vectors)"
   ]
  },
  {
   "cell_type": "markdown",
   "metadata": {},
   "source": [
    "We see that strategy 2, removing words that are misclassified more than once results in the best improvement in accuracy, f-1 score, and reduces the number of misclassified documents the most."
   ]
  },
  {
   "cell_type": "markdown",
   "metadata": {
    "colab_type": "text",
    "id": "-6RT2GxDQE66"
   },
   "source": [
    "#### Now looking at documents that were misclassified before feature selection, and that are classified correctly after feature selection."
   ]
  },
  {
   "cell_type": "code",
   "execution_count": 37,
   "metadata": {
    "colab": {},
    "colab_type": "code",
    "id": "IB3_umGUQE68"
   },
   "outputs": [
    {
     "name": "stdout",
     "output_type": "stream",
     "text": [
      "Actual class:  1\n",
      "Predit proba:  [[0.34716826 0.65283174]]\n"
     ]
    },
    {
     "data": {
      "image/png": "[encoded data removed]",
      "text/plain": [
       "<Figure size 1440x360 with 1 Axes>"
      ]
     },
     "metadata": {
      "needs_background": "light"
     },
     "output_type": "display_data"
    }
   ],
   "source": [
    "d = make_pipeline(vectorizer, sdg_new)\n",
    "\n",
    "# New correctly classified version\n",
    "i = 62\n",
    "print('Actual class: ', newsgroups_test.target[i])\n",
    "print('Predit proba: ', d.predict_proba([newsgroups_test.data[i]]))\n",
    "exp_text = explainer_text.explain_instance(newsgroups_test.data[i],\n",
    "                                           d.predict_proba, num_features=5)\n",
    "fig = exp_text.as_pyplot_figure()"
   ]
  },
  {
   "cell_type": "code",
   "execution_count": 38,
   "metadata": {},
   "outputs": [
    {
     "name": "stdout",
     "output_type": "stream",
     "text": [
      "Actual class:  1\n",
      "Predit proba:  [[0.51469448 0.48530552]]\n"
     ]
    },
    {
     "data": {
      "image/png": "[encoded data removed]",
      "text/plain": [
       "<Figure size 1440x360 with 1 Axes>"
      ]
     },
     "metadata": {
      "needs_background": "light"
     },
     "output_type": "display_data"
    }
   ],
   "source": [
    "# Old version: incorrect\n",
    "i = 62\n",
    "print('Actual class: ', newsgroups_test.target[i])\n",
    "print('Predit proba: ', c.predict_proba([newsgroups_test.data[i]]))\n",
    "exp_text = explainer_text.explain_instance(newsgroups_test.data[i],\n",
    "                                           c.predict_proba, num_features=5)\n",
    "fig = exp_text.as_pyplot_figure()"
   ]
  },
  {
   "cell_type": "code",
   "execution_count": 39,
   "metadata": {},
   "outputs": [
    {
     "name": "stdout",
     "output_type": "stream",
     "text": [
      "Actual class:  0\n",
      "Predit proba:  [[0.74233351 0.25766649]]\n"
     ]
    },
    {
     "data": {
      "image/png": "[encoded data removed]",
      "text/plain": [
       "<Figure size 1440x360 with 1 Axes>"
      ]
     },
     "metadata": {
      "needs_background": "light"
     },
     "output_type": "display_data"
    }
   ],
   "source": [
    "# New correctly classified version\n",
    "i = 377\n",
    "print('Actual class: ', newsgroups_test.target[i])\n",
    "print('Predit proba: ', d.predict_proba([newsgroups_test.data[i]]))\n",
    "exp_text = explainer_text.explain_instance(newsgroups_test.data[i],\n",
    "                                           d.predict_proba, num_features=5)\n",
    "fig = exp_text.as_pyplot_figure()"
   ]
  },
  {
   "cell_type": "code",
   "execution_count": 40,
   "metadata": {},
   "outputs": [
    {
     "name": "stdout",
     "output_type": "stream",
     "text": [
      "Actual class:  0\n",
      "Predit proba:  [[0.3569371 0.6430629]]\n"
     ]
    },
    {
     "data": {
      "image/png": "[encoded data removed]",
      "text/plain": [
       "<Figure size 1440x360 with 1 Axes>"
      ]
     },
     "metadata": {
      "needs_background": "light"
     },
     "output_type": "display_data"
    }
   ],
   "source": [
    "# Old version: incorrect\n",
    "i = 377\n",
    "print('Actual class: ', newsgroups_test.target[i])\n",
    "print('Predit proba: ', c.predict_proba([newsgroups_test.data[i]]))\n",
    "exp_text = explainer_text.explain_instance(newsgroups_test.data[i],\n",
    "                                           c.predict_proba, num_features=5)\n",
    "fig = exp_text.as_pyplot_figure()"
   ]
  },
  {
   "cell_type": "code",
   "execution_count": 41,
   "metadata": {},
   "outputs": [
    {
     "name": "stdout",
     "output_type": "stream",
     "text": [
      "Actual class:  0\n",
      "Predit proba:  [[0.5762899 0.4237101]]\n"
     ]
    },
    {
     "data": {
      "image/png": "[encoded data removed]",
      "text/plain": [
       "<Figure size 1440x360 with 1 Axes>"
      ]
     },
     "metadata": {
      "needs_background": "light"
     },
     "output_type": "display_data"
    }
   ],
   "source": [
    "# New correctly classified version\n",
    "i = 605\n",
    "print('Actual class: ', newsgroups_test.target[i])\n",
    "print('Predit proba: ', d.predict_proba([newsgroups_test.data[i]]))\n",
    "exp_text = explainer_text.explain_instance(newsgroups_test.data[i],\n",
    "                                           d.predict_proba, num_features=5)\n",
    "fig = exp_text.as_pyplot_figure()"
   ]
  },
  {
   "cell_type": "code",
   "execution_count": 42,
   "metadata": {},
   "outputs": [
    {
     "name": "stdout",
     "output_type": "stream",
     "text": [
      "Actual class:  0\n",
      "Predit proba:  [[0.48922469 0.51077531]]\n"
     ]
    },
    {
     "data": {
      "image/png": "[encoded data removed]",
      "text/plain": [
       "<Figure size 1440x360 with 1 Axes>"
      ]
     },
     "metadata": {
      "needs_background": "light"
     },
     "output_type": "display_data"
    }
   ],
   "source": [
    "# Old version: incorrect\n",
    "i = 605\n",
    "print('Actual class: ', newsgroups_test.target[i])\n",
    "print('Predit proba: ', c.predict_proba([newsgroups_test.data[i]]))\n",
    "exp_text = explainer_text.explain_instance(newsgroups_test.data[i],\n",
    "                                           c.predict_proba, num_features=5)\n",
    "fig = exp_text.as_pyplot_figure()"
   ]
  }
 ],
 "metadata": {
  "colab": {
   "name": "RDS-Spring2020-HW3-Sample-Code.ipynb",
   "provenance": []
  },
  "kernelspec": {
   "display_name": "Python 3",
   "language": "python",
   "name": "python3"
  },
  "language_info": {
   "codemirror_mode": {
    "name": "ipython",
    "version": 3
   },
   "file_extension": ".py",
   "mimetype": "text/x-python",
   "name": "python",
   "nbconvert_exporter": "python",
   "pygments_lexer": "ipython3",
   "version": "3.7.6"
  }
 },
 "nbformat": 4,
 "nbformat_minor": 1
}
